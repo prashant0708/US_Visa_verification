{
 "cells": [
  {
   "cell_type": "code",
   "execution_count": 14,
   "id": "70907106",
   "metadata": {},
   "outputs": [
    {
     "ename": "TypeError",
     "evalue": "ModelPusherArtifact.__init__() missing 2 required positional arguments: 'Model_Pusher_Bucket_Name' and 'S3_Key_Model_Pusher_Path'",
     "output_type": "error",
     "traceback": [
      "\u001b[31m---------------------------------------------------------------------------\u001b[39m",
      "\u001b[31mTypeError\u001b[39m                                 Traceback (most recent call last)",
      "\u001b[36mCell\u001b[39m\u001b[36m \u001b[39m\u001b[32mIn[14]\u001b[39m\u001b[32m, line 3\u001b[39m\n\u001b[32m      1\u001b[39m \u001b[38;5;28;01mfrom\u001b[39;00m\u001b[38;5;250m \u001b[39m\u001b[34;01mus_visa\u001b[39;00m\u001b[34;01m.\u001b[39;00m\u001b[34;01mlogger\u001b[39;00m\u001b[38;5;250m \u001b[39m\u001b[38;5;28;01mimport\u001b[39;00m logging\n\u001b[32m      2\u001b[39m \u001b[38;5;66;03m#from us_visa.entity.config_entity import USvisaPredictorConfig\u001b[39;00m\n\u001b[32m----> \u001b[39m\u001b[32m3\u001b[39m \u001b[38;5;28;01mfrom\u001b[39;00m\u001b[38;5;250m \u001b[39m\u001b[34;01mus_visa\u001b[39;00m\u001b[34;01m.\u001b[39;00m\u001b[34;01mpipeline\u001b[39;00m\u001b[34;01m.\u001b[39;00m\u001b[34;01mprediction_pipeline\u001b[39;00m\u001b[38;5;250m \u001b[39m\u001b[38;5;28;01mimport\u001b[39;00m usvisaclassifier,USVisaData\n",
      "\u001b[36mFile \u001b[39m\u001b[32mc:\\users\\prashant kumar singh\\desktop\\us_visa_verification\\us_visa\\pipeline\\prediction_pipeline.py:61\u001b[39m\n\u001b[32m     58\u001b[39m         \u001b[38;5;28;01mexcept\u001b[39;00m \u001b[38;5;167;01mException\u001b[39;00m \u001b[38;5;28;01mas\u001b[39;00m e:\n\u001b[32m     59\u001b[39m             \u001b[38;5;28;01mraise\u001b[39;00m USVISAEXCEPTION(e,sys)\n\u001b[32m---> \u001b[39m\u001b[32m61\u001b[39m \u001b[38;5;28;43;01mclass\u001b[39;49;00m\u001b[38;5;250;43m \u001b[39;49m\u001b[34;43;01musvisaclassifier\u001b[39;49;00m\u001b[43m:\u001b[49m\n\u001b[32m     62\u001b[39m \u001b[43m    \u001b[49m\u001b[38;5;28;43;01mdef\u001b[39;49;00m\u001b[38;5;250;43m \u001b[39;49m\u001b[34;43m__init__\u001b[39;49m\u001b[43m(\u001b[49m\u001b[38;5;28;43mself\u001b[39;49m\u001b[43m,\u001b[49m\u001b[43m \u001b[49m\u001b[43mprediction_pipeline_config\u001b[49m\u001b[43m:\u001b[49m\u001b[43mModelPusherArtifact\u001b[49m\u001b[43m=\u001b[49m\u001b[43mModelPusherArtifact\u001b[49m\u001b[43m(\u001b[49m\u001b[43m)\u001b[49m\u001b[43m)\u001b[49m\u001b[43m:\u001b[49m\n\u001b[32m     63\u001b[39m \u001b[43m        \u001b[49m\u001b[38;5;28;43;01mtry\u001b[39;49;00m\u001b[43m:\u001b[49m\n",
      "\u001b[36mFile \u001b[39m\u001b[32mc:\\users\\prashant kumar singh\\desktop\\us_visa_verification\\us_visa\\pipeline\\prediction_pipeline.py:62\u001b[39m, in \u001b[36musvisaclassifier\u001b[39m\u001b[34m()\u001b[39m\n\u001b[32m     61\u001b[39m \u001b[38;5;28;01mclass\u001b[39;00m\u001b[38;5;250m \u001b[39m\u001b[34;01musvisaclassifier\u001b[39;00m:\n\u001b[32m---> \u001b[39m\u001b[32m62\u001b[39m     \u001b[38;5;28;01mdef\u001b[39;00m\u001b[38;5;250m \u001b[39m\u001b[34m__init__\u001b[39m(\u001b[38;5;28mself\u001b[39m, prediction_pipeline_config:ModelPusherArtifact=\u001b[43mModelPusherArtifact\u001b[49m\u001b[43m(\u001b[49m\u001b[43m)\u001b[49m):\n\u001b[32m     63\u001b[39m         \u001b[38;5;28;01mtry\u001b[39;00m:\n\u001b[32m     64\u001b[39m             \u001b[38;5;28mself\u001b[39m.prediction_pipeline_config=ModelPusherArtifact\n",
      "\u001b[31mTypeError\u001b[39m: ModelPusherArtifact.__init__() missing 2 required positional arguments: 'Model_Pusher_Bucket_Name' and 'S3_Key_Model_Pusher_Path'"
     ]
    }
   ],
   "source": [
    "from us_visa.logger import logging\n",
    "#from us_visa.entity.config_entity import USvisaPredictorConfig\n",
    "from us_visa.pipeline.prediction_pipeline import usvisaclassifier,USVisaData"
   ]
  },
  {
   "cell_type": "code",
   "execution_count": 15,
   "id": "39e7746f",
   "metadata": {},
   "outputs": [],
   "source": [
    "def greet(name: str = \"Guest\"):\n",
    "    print(f\"Hello, {name}\")\n",
    "    "
   ]
  },
  {
   "cell_type": "code",
   "execution_count": 16,
   "id": "c7179426",
   "metadata": {},
   "outputs": [
    {
     "name": "stdout",
     "output_type": "stream",
     "text": [
      "Hello, Guest\n"
     ]
    }
   ],
   "source": [
    "greet()"
   ]
  },
  {
   "cell_type": "code",
   "execution_count": 23,
   "id": "cf57b973",
   "metadata": {},
   "outputs": [],
   "source": [
    "import dill\n",
    "from us_visa.constants import *\n",
    "from us_visa.configuration.aws_config import S3Client\n",
    "import io"
   ]
  },
  {
   "cell_type": "code",
   "execution_count": 24,
   "id": "d7d18685",
   "metadata": {},
   "outputs": [
    {
     "name": "stdout",
     "output_type": "stream",
     "text": [
      "usvisa-model20052025 model.pkl\n"
     ]
    }
   ],
   "source": [
    "bucket = MODEL_BUCKET_NAME\n",
    "path = MODEL_FILE_NAME\n",
    "print(bucket,path)\n",
    "\n",
    "S3_Client=S3Client()"
   ]
  },
  {
   "cell_type": "code",
   "execution_count": 25,
   "id": "05e896c4",
   "metadata": {},
   "outputs": [],
   "source": [
    "def load_model(bucket,path): \n",
    "        response = S3_Client.s3_client.get_object(Bucket=bucket,Key=path)\n",
    "        print(response)\n",
    "        model_binary = response['Body'].read()\n",
    "        print(model_binary)\n",
    "        model = dill.load(io.BytesIO(model_binary))\n",
    "        return model"
   ]
  },
  {
   "cell_type": "code",
   "execution_count": null,
   "id": "1507e1da",
   "metadata": {},
   "outputs": [
    {
     "name": "stdout",
     "output_type": "stream",
     "text": [
      "{'ResponseMetadata': {'RequestId': 'MD0ATB1SS9XDHKC8', 'HostId': 'YOu+NRvHArvHo9bSY21pNgaj7L1ofoZt5x6GwFOJKniLotrJJkhWWRhSRUtX1J6agKb14s6V5ck=', 'HTTPStatusCode': 200, 'HTTPHeaders': {'x-amz-id-2': 'YOu+NRvHArvHo9bSY21pNgaj7L1ofoZt5x6GwFOJKniLotrJJkhWWRhSRUtX1J6agKb14s6V5ck=', 'x-amz-request-id': 'MD0ATB1SS9XDHKC8', 'date': 'Wed, 21 May 2025 13:16:40 GMT', 'last-modified': 'Wed, 21 May 2025 10:56:00 GMT', 'etag': '\"d460cd8fa654e7c721f4633bc9f437bf\"', 'x-amz-checksum-crc32': 'K6t+mw==', 'x-amz-checksum-type': 'FULL_OBJECT', 'x-amz-server-side-encryption': 'AES256', 'accept-ranges': 'bytes', 'content-type': 'binary/octet-stream', 'content-length': '60', 'server': 'AmazonS3'}, 'ChecksumAlgorithm': 'crc32', 'RetryAttempts': 0}, 'AcceptRanges': 'bytes', 'LastModified': datetime.datetime(2025, 5, 21, 10, 56, tzinfo=tzutc()), 'ContentLength': 60, 'ETag': '\"d460cd8fa654e7c721f4633bc9f437bf\"', 'ChecksumCRC32': 'K6t+mw==', 'ChecksumType': 'FULL_OBJECT', 'ContentType': 'binary/octet-stream', 'ServerSideEncryption': 'AES256', 'Metadata': {}, 'Body': <botocore.httpchecksum.StreamingChecksumBody object at 0x0000024A2855DC00>}\n",
      "b'artifact/US_VISA/2025-05-21-16-22-38/model_trainer/model.pkl'\n"
     ]
    },
    {
     "ename": "UnpicklingError",
     "evalue": "unpickling stack underflow",
     "output_type": "error",
     "traceback": [
      "\u001b[31m---------------------------------------------------------------------------\u001b[39m",
      "\u001b[31mUnpicklingError\u001b[39m                           Traceback (most recent call last)",
      "\u001b[36mCell\u001b[39m\u001b[36m \u001b[39m\u001b[32mIn[26]\u001b[39m\u001b[32m, line 1\u001b[39m\n\u001b[32m----> \u001b[39m\u001b[32m1\u001b[39m model = \u001b[43mload_model\u001b[49m\u001b[43m(\u001b[49m\u001b[43mbucket\u001b[49m\u001b[43m=\u001b[49m\u001b[43mbucket\u001b[49m\u001b[43m,\u001b[49m\u001b[43mpath\u001b[49m\u001b[43m \u001b[49m\u001b[43m=\u001b[49m\u001b[43m \u001b[49m\u001b[43mpath\u001b[49m\u001b[43m)\u001b[49m\n",
      "\u001b[36mCell\u001b[39m\u001b[36m \u001b[39m\u001b[32mIn[25]\u001b[39m\u001b[32m, line 6\u001b[39m, in \u001b[36mload_model\u001b[39m\u001b[34m(bucket, path)\u001b[39m\n\u001b[32m      4\u001b[39m model_binary = response[\u001b[33m'\u001b[39m\u001b[33mBody\u001b[39m\u001b[33m'\u001b[39m].read()\n\u001b[32m      5\u001b[39m \u001b[38;5;28mprint\u001b[39m(model_binary)\n\u001b[32m----> \u001b[39m\u001b[32m6\u001b[39m model = \u001b[43mdill\u001b[49m\u001b[43m.\u001b[49m\u001b[43mload\u001b[49m\u001b[43m(\u001b[49m\u001b[43mio\u001b[49m\u001b[43m.\u001b[49m\u001b[43mBytesIO\u001b[49m\u001b[43m(\u001b[49m\u001b[43mmodel_binary\u001b[49m\u001b[43m)\u001b[49m\u001b[43m)\u001b[49m\n\u001b[32m      7\u001b[39m \u001b[38;5;28;01mreturn\u001b[39;00m model\n",
      "\u001b[36mFile \u001b[39m\u001b[32mc:\\Users\\Prashant kumar singh\\Desktop\\US_Visa_verification\\usvisavenv\\Lib\\site-packages\\dill\\_dill.py:297\u001b[39m, in \u001b[36mload\u001b[39m\u001b[34m(file, ignore, **kwds)\u001b[39m\n\u001b[32m    291\u001b[39m \u001b[38;5;28;01mdef\u001b[39;00m\u001b[38;5;250m \u001b[39m\u001b[34mload\u001b[39m(file, ignore=\u001b[38;5;28;01mNone\u001b[39;00m, **kwds):\n\u001b[32m    292\u001b[39m \u001b[38;5;250m    \u001b[39m\u001b[33;03m\"\"\"\u001b[39;00m\n\u001b[32m    293\u001b[39m \u001b[33;03m    Unpickle an object from a file.\u001b[39;00m\n\u001b[32m    294\u001b[39m \n\u001b[32m    295\u001b[39m \u001b[33;03m    See :func:`loads` for keyword arguments.\u001b[39;00m\n\u001b[32m    296\u001b[39m \u001b[33;03m    \"\"\"\u001b[39;00m\n\u001b[32m--> \u001b[39m\u001b[32m297\u001b[39m     \u001b[38;5;28;01mreturn\u001b[39;00m \u001b[43mUnpickler\u001b[49m\u001b[43m(\u001b[49m\u001b[43mfile\u001b[49m\u001b[43m,\u001b[49m\u001b[43m \u001b[49m\u001b[43mignore\u001b[49m\u001b[43m=\u001b[49m\u001b[43mignore\u001b[49m\u001b[43m,\u001b[49m\u001b[43m \u001b[49m\u001b[43m*\u001b[49m\u001b[43m*\u001b[49m\u001b[43mkwds\u001b[49m\u001b[43m)\u001b[49m\u001b[43m.\u001b[49m\u001b[43mload\u001b[49m\u001b[43m(\u001b[49m\u001b[43m)\u001b[49m\n",
      "\u001b[36mFile \u001b[39m\u001b[32mc:\\Users\\Prashant kumar singh\\Desktop\\US_Visa_verification\\usvisavenv\\Lib\\site-packages\\dill\\_dill.py:452\u001b[39m, in \u001b[36mUnpickler.load\u001b[39m\u001b[34m(self)\u001b[39m\n\u001b[32m    451\u001b[39m \u001b[38;5;28;01mdef\u001b[39;00m\u001b[38;5;250m \u001b[39m\u001b[34mload\u001b[39m(\u001b[38;5;28mself\u001b[39m): \u001b[38;5;66;03m#NOTE: if settings change, need to update attributes\u001b[39;00m\n\u001b[32m--> \u001b[39m\u001b[32m452\u001b[39m     obj = \u001b[43mStockUnpickler\u001b[49m\u001b[43m.\u001b[49m\u001b[43mload\u001b[49m\u001b[43m(\u001b[49m\u001b[38;5;28;43mself\u001b[39;49m\u001b[43m)\u001b[49m\n\u001b[32m    453\u001b[39m     \u001b[38;5;28;01mif\u001b[39;00m \u001b[38;5;28mtype\u001b[39m(obj).\u001b[34m__module__\u001b[39m == \u001b[38;5;28mgetattr\u001b[39m(_main_module, \u001b[33m'\u001b[39m\u001b[33m__name__\u001b[39m\u001b[33m'\u001b[39m, \u001b[33m'\u001b[39m\u001b[33m__main__\u001b[39m\u001b[33m'\u001b[39m):\n\u001b[32m    454\u001b[39m         \u001b[38;5;28;01mif\u001b[39;00m \u001b[38;5;129;01mnot\u001b[39;00m \u001b[38;5;28mself\u001b[39m._ignore:\n\u001b[32m    455\u001b[39m             \u001b[38;5;66;03m# point obj class to main\u001b[39;00m\n",
      "\u001b[31mUnpicklingError\u001b[39m: unpickling stack underflow"
     ]
    }
   ],
   "source": [
    "model = load_model(bucket=MODEL_BUCKET_NAME,path =MODEL_FILE_NAME)"
   ]
  },
  {
   "cell_type": "code",
   "execution_count": null,
   "id": "3d17ea1d",
   "metadata": {},
   "outputs": [],
   "source": []
  }
 ],
 "metadata": {
  "kernelspec": {
   "display_name": "Python 3",
   "language": "python",
   "name": "python3"
  },
  "language_info": {
   "codemirror_mode": {
    "name": "ipython",
    "version": 3
   },
   "file_extension": ".py",
   "mimetype": "text/x-python",
   "name": "python",
   "nbconvert_exporter": "python",
   "pygments_lexer": "ipython3",
   "version": "3.12.7"
  }
 },
 "nbformat": 4,
 "nbformat_minor": 5
}
